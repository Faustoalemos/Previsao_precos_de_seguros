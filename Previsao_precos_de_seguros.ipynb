{
 "cells": [
  {
   "cell_type": "markdown",
   "id": "30d7154a",
   "metadata": {},
   "source": [
    "<h1>\n",
    "\n",
    "Maquina Preditiva para previsão de preços de seguros.\n",
    "\n",
    "</h1>\n",
    "\n",
    "## Problema de negócio.\n",
    "\n",
    "    Obter uma visão de previsão de preços de seguros visando poder prever o faturamento final para o próximo período.\n",
    "\n",
    " \n",
    "## Base de dados\n",
    "\n",
    "    Link para acesso do banco de dados: https://www.kaggle.com/jamiemorales/linear-regression-insurance-prices\n",
    "\n",
    "\n",
    "##### Você está aqui pelo processo completo e as linhas de código?\n",
    "    Siga em frente em cada etapa e caso se sinta a vontade me ajude a desenvolver ainda mais a minha visão sobre analise exploratória de dados.\n",
    "\n",
    "##### Você está aqui pelo resultado final?\n",
    "    Vá direto ao final conclusão final para entender o resultado final do tratamento e a exploração dos dados.\n",
    "    \n",
    "    \n",
    "  \n",
    "<h2>\n",
    "\n",
    "         1. Instalação e importação das bibliotecas;\n",
    "\n",
    "</h2>\n",
    "   \n",
    "    \n",
    "    1.1 Documentação do pacote de dados Pandas link: https://pandas.pydata.org/docs/\n",
    "\n",
    "    1.2 Documentação do pacote de dados Seaborn link:https://www.w3schools.com/python/numpy/numpy_random_seaborn.asp\n",
    "\n",
    "    1.3 Documentação do pacote de dados scikit-learn link:https://scikit-learn.org/0.21/documentation.html\n",
    "\n",
    "    1.4 Documentação do pacote de dados Numpy link: https://numpy.org/doc/\n",
    "\n",
    "    1.5 Documentação do pacote de dados Matplotlib link: https://matplotlib.org/stable/index.html\n",
    "   \n",
    "   \n",
    "   \n",
    "\n",
    "<h2>\n",
    "\n",
    "        2. Importação dos dados;\n",
    "\n",
    "</h2>\n",
    "\n",
    "\n",
    "\n",
    "\n",
    "<h2>\n",
    "\n",
    "        3. Exploração do Dataset; \n",
    "\n",
    "</h2>\n",
    "   \n",
    "    3.1 Visualização das primeiras e ultimas linhas da tabela;\n",
    "    \n",
    "    3.2 Visualizando o tamanho total do dataset;\n",
    "    \n",
    "    3.3 Visualizando o nome de cada uma das colunas;\n",
    "    \n",
    "    3.4 Verificando a indexação das linhas;\n",
    "    \n",
    "    3.5 Analise de valores únicos dentro das colunas;\n",
    "    \n",
    "        3.5.1 Visualizando os valores que são únicos;\n",
    "    \n",
    "    3.6 Analisando o formato de cada coluna;\n",
    "    \n",
    "        3.6.1 Visualizando o formato de uma coluna especifica;\n",
    "\n",
    "    3.7 Identificando valores missing;\n",
    "    \n",
    "    3.8 Visualizar linhas duplicadas;\n",
    "    \n",
    "   \n",
    "<h2>\n",
    "\n",
    "     4. Limpeza dos dados;\n",
    "\n",
    "</h2>\n",
    "   \n",
    "      \n",
    "      4.1 Tratamento de valores Missing;\n",
    "      \n",
    "      Para esse dataset não foi necessário efetuar o tratamento de valores missing, pois na exploração já identificamos a presença nesse dataset.\n",
    "      \n",
    "      4.2 Tratamento das linhas duplicadas;\n",
    "      \n",
    "<h2>\n",
    "\n",
    "     5. Transformação e pré-processamento dos dados;\n",
    "   \n",
    "\n",
    "</h2>\n",
    "\n",
    "      5.1 Transformando as variáveis categoricas;\n",
    "\n",
    "\n",
    "<h2>\n",
    "\n",
    "     6. Análise exploratória dos dados;\n",
    "\n",
    "</h2>\n",
    "\n",
    "\n",
    "      6.1 Análises e insights importantes;\n",
    "      \n",
    "      6.2 Correlações entre os dados;\n",
    "\n",
    "\n",
    "\n",
    "<h2>\n",
    "\n",
    "     7. Criação dos modelos preditivos ou classificação;\n",
    "\n",
    "</h2>\n",
    "\n",
    "\n",
    "      7.1 Separação dos dados de treino e teste;\n",
    "      \n",
    "      7.2 Construção e treino do modelo;\n",
    "      \n",
    "      7.3 Avaliação do modelo;\n",
    "      \n",
    "      7.4 Utilizando todas as opções de variáveis de entrada;\n",
    "\n",
    "<h2>\n",
    "\n",
    "     8. Conclusões finais;\n",
    "\n",
    "</h2>\n",
    "\n",
    "\n",
    "___\n",
    "    "
   ]
  },
  {
   "cell_type": "markdown",
   "id": "f2c37728",
   "metadata": {},
   "source": [
    "<h2>\n",
    "\n",
    "         1. Instalação e importação das bibliotecas;\n",
    "\n",
    "</h2>"
   ]
  },
  {
   "cell_type": "code",
   "execution_count": 1,
   "id": "a83d2ee6",
   "metadata": {},
   "outputs": [],
   "source": [
    "import os\n",
    "import pandas as pd\n",
    "import seaborn as sns\n",
    "import matplotlib.pyplot as plt\n",
    "from sklearn.model_selection import train_test_split\n",
    "from sklearn.linear_model import LinearRegression\n",
    "%matplotlib inline\n",
    "from sklearn.preprocessing import LabelEncoder\n",
    "\n",
    "from IPython.display import Image"
   ]
  },
  {
   "cell_type": "markdown",
   "id": "f0ec1238",
   "metadata": {},
   "source": [
    "<h2>\n",
    "\n",
    "        2. Importação dos dados;\n",
    "\n",
    "</h2>"
   ]
  },
  {
   "cell_type": "code",
   "execution_count": 2,
   "id": "2ca7a6b8",
   "metadata": {},
   "outputs": [],
   "source": [
    "data=pd.read_csv('insurance.csv')"
   ]
  },
  {
   "cell_type": "markdown",
   "id": "a5e3afb3",
   "metadata": {},
   "source": [
    "<h2>\n",
    "\n",
    "        3. Exploração do Dataset; \n",
    "\n",
    "</h2>"
   ]
  },
  {
   "cell_type": "markdown",
   "id": "88183c6a",
   "metadata": {},
   "source": [
    "<h4>\n",
    "   3.1 Visualização das primeiras e ultimas linhas da tabela; \n",
    "</h4>    "
   ]
  },
  {
   "cell_type": "code",
   "execution_count": 3,
   "id": "6b88f04a",
   "metadata": {
    "scrolled": false
   },
   "outputs": [
    {
     "data": {
      "text/html": [
       "<div>\n",
       "<style scoped>\n",
       "    .dataframe tbody tr th:only-of-type {\n",
       "        vertical-align: middle;\n",
       "    }\n",
       "\n",
       "    .dataframe tbody tr th {\n",
       "        vertical-align: top;\n",
       "    }\n",
       "\n",
       "    .dataframe thead th {\n",
       "        text-align: right;\n",
       "    }\n",
       "</style>\n",
       "<table border=\"1\" class=\"dataframe\">\n",
       "  <thead>\n",
       "    <tr style=\"text-align: right;\">\n",
       "      <th></th>\n",
       "      <th>age</th>\n",
       "      <th>sex</th>\n",
       "      <th>bmi</th>\n",
       "      <th>children</th>\n",
       "      <th>smoker</th>\n",
       "      <th>region</th>\n",
       "      <th>charges</th>\n",
       "    </tr>\n",
       "  </thead>\n",
       "  <tbody>\n",
       "    <tr>\n",
       "      <th>0</th>\n",
       "      <td>19</td>\n",
       "      <td>female</td>\n",
       "      <td>27.900</td>\n",
       "      <td>0</td>\n",
       "      <td>yes</td>\n",
       "      <td>southwest</td>\n",
       "      <td>16884.92400</td>\n",
       "    </tr>\n",
       "    <tr>\n",
       "      <th>1</th>\n",
       "      <td>18</td>\n",
       "      <td>male</td>\n",
       "      <td>33.770</td>\n",
       "      <td>1</td>\n",
       "      <td>no</td>\n",
       "      <td>southeast</td>\n",
       "      <td>1725.55230</td>\n",
       "    </tr>\n",
       "    <tr>\n",
       "      <th>2</th>\n",
       "      <td>28</td>\n",
       "      <td>male</td>\n",
       "      <td>33.000</td>\n",
       "      <td>3</td>\n",
       "      <td>no</td>\n",
       "      <td>southeast</td>\n",
       "      <td>4449.46200</td>\n",
       "    </tr>\n",
       "    <tr>\n",
       "      <th>3</th>\n",
       "      <td>33</td>\n",
       "      <td>male</td>\n",
       "      <td>22.705</td>\n",
       "      <td>0</td>\n",
       "      <td>no</td>\n",
       "      <td>northwest</td>\n",
       "      <td>21984.47061</td>\n",
       "    </tr>\n",
       "    <tr>\n",
       "      <th>4</th>\n",
       "      <td>32</td>\n",
       "      <td>male</td>\n",
       "      <td>28.880</td>\n",
       "      <td>0</td>\n",
       "      <td>no</td>\n",
       "      <td>northwest</td>\n",
       "      <td>3866.85520</td>\n",
       "    </tr>\n",
       "  </tbody>\n",
       "</table>\n",
       "</div>"
      ],
      "text/plain": [
       "   age     sex     bmi  children smoker     region      charges\n",
       "0   19  female  27.900         0    yes  southwest  16884.92400\n",
       "1   18    male  33.770         1     no  southeast   1725.55230\n",
       "2   28    male  33.000         3     no  southeast   4449.46200\n",
       "3   33    male  22.705         0     no  northwest  21984.47061\n",
       "4   32    male  28.880         0     no  northwest   3866.85520"
      ]
     },
     "execution_count": 3,
     "metadata": {},
     "output_type": "execute_result"
    }
   ],
   "source": [
    "data.head()"
   ]
  },
  {
   "cell_type": "code",
   "execution_count": 4,
   "id": "070189f3",
   "metadata": {},
   "outputs": [
    {
     "data": {
      "text/html": [
       "<div>\n",
       "<style scoped>\n",
       "    .dataframe tbody tr th:only-of-type {\n",
       "        vertical-align: middle;\n",
       "    }\n",
       "\n",
       "    .dataframe tbody tr th {\n",
       "        vertical-align: top;\n",
       "    }\n",
       "\n",
       "    .dataframe thead th {\n",
       "        text-align: right;\n",
       "    }\n",
       "</style>\n",
       "<table border=\"1\" class=\"dataframe\">\n",
       "  <thead>\n",
       "    <tr style=\"text-align: right;\">\n",
       "      <th></th>\n",
       "      <th>age</th>\n",
       "      <th>sex</th>\n",
       "      <th>bmi</th>\n",
       "      <th>children</th>\n",
       "      <th>smoker</th>\n",
       "      <th>region</th>\n",
       "      <th>charges</th>\n",
       "    </tr>\n",
       "  </thead>\n",
       "  <tbody>\n",
       "    <tr>\n",
       "      <th>1333</th>\n",
       "      <td>50</td>\n",
       "      <td>male</td>\n",
       "      <td>30.97</td>\n",
       "      <td>3</td>\n",
       "      <td>no</td>\n",
       "      <td>northwest</td>\n",
       "      <td>10600.5483</td>\n",
       "    </tr>\n",
       "    <tr>\n",
       "      <th>1334</th>\n",
       "      <td>18</td>\n",
       "      <td>female</td>\n",
       "      <td>31.92</td>\n",
       "      <td>0</td>\n",
       "      <td>no</td>\n",
       "      <td>northeast</td>\n",
       "      <td>2205.9808</td>\n",
       "    </tr>\n",
       "    <tr>\n",
       "      <th>1335</th>\n",
       "      <td>18</td>\n",
       "      <td>female</td>\n",
       "      <td>36.85</td>\n",
       "      <td>0</td>\n",
       "      <td>no</td>\n",
       "      <td>southeast</td>\n",
       "      <td>1629.8335</td>\n",
       "    </tr>\n",
       "    <tr>\n",
       "      <th>1336</th>\n",
       "      <td>21</td>\n",
       "      <td>female</td>\n",
       "      <td>25.80</td>\n",
       "      <td>0</td>\n",
       "      <td>no</td>\n",
       "      <td>southwest</td>\n",
       "      <td>2007.9450</td>\n",
       "    </tr>\n",
       "    <tr>\n",
       "      <th>1337</th>\n",
       "      <td>61</td>\n",
       "      <td>female</td>\n",
       "      <td>29.07</td>\n",
       "      <td>0</td>\n",
       "      <td>yes</td>\n",
       "      <td>northwest</td>\n",
       "      <td>29141.3603</td>\n",
       "    </tr>\n",
       "  </tbody>\n",
       "</table>\n",
       "</div>"
      ],
      "text/plain": [
       "      age     sex    bmi  children smoker     region     charges\n",
       "1333   50    male  30.97         3     no  northwest  10600.5483\n",
       "1334   18  female  31.92         0     no  northeast   2205.9808\n",
       "1335   18  female  36.85         0     no  southeast   1629.8335\n",
       "1336   21  female  25.80         0     no  southwest   2007.9450\n",
       "1337   61  female  29.07         0    yes  northwest  29141.3603"
      ]
     },
     "execution_count": 4,
     "metadata": {},
     "output_type": "execute_result"
    }
   ],
   "source": [
    "data.tail()"
   ]
  },
  {
   "cell_type": "markdown",
   "id": "6a2f0b22",
   "metadata": {},
   "source": [
    "<h4>\n",
    "   3.2 Visualizando o tamanho total do dataset; \n",
    "</h4>    "
   ]
  },
  {
   "cell_type": "code",
   "execution_count": 5,
   "id": "beb66f7d",
   "metadata": {},
   "outputs": [
    {
     "data": {
      "text/plain": [
       "(1338, 7)"
      ]
     },
     "execution_count": 5,
     "metadata": {},
     "output_type": "execute_result"
    }
   ],
   "source": [
    "data.shape"
   ]
  },
  {
   "cell_type": "markdown",
   "id": "3acee6df",
   "metadata": {},
   "source": [
    "<h4>\n",
    "   3.3 Visualizando o nome de cada uma das colunas;\n",
    "</h4>    "
   ]
  },
  {
   "cell_type": "code",
   "execution_count": 6,
   "id": "08c7d142",
   "metadata": {},
   "outputs": [
    {
     "data": {
      "text/plain": [
       "Index(['age', 'sex', 'bmi', 'children', 'smoker', 'region', 'charges'], dtype='object')"
      ]
     },
     "execution_count": 6,
     "metadata": {},
     "output_type": "execute_result"
    }
   ],
   "source": [
    "data.columns"
   ]
  },
  {
   "cell_type": "markdown",
   "id": "f259e54e",
   "metadata": {},
   "source": [
    "Podemos utilizar para caso necessário quisermos pegar o nome de cada coluna para tratamento já no formato correto."
   ]
  },
  {
   "cell_type": "markdown",
   "id": "ef7369cf",
   "metadata": {},
   "source": [
    "<h4>\n",
    "   3.4 Verificando a indexação das linhas;\n",
    "</h4> "
   ]
  },
  {
   "cell_type": "code",
   "execution_count": 7,
   "id": "41a7b123",
   "metadata": {},
   "outputs": [
    {
     "data": {
      "text/plain": [
       "RangeIndex(start=0, stop=1338, step=1)"
      ]
     },
     "execution_count": 7,
     "metadata": {},
     "output_type": "execute_result"
    }
   ],
   "source": [
    "data.index"
   ]
  },
  {
   "cell_type": "markdown",
   "id": "641b2579",
   "metadata": {},
   "source": [
    "Somente para visualizar e verificar a indexação de cada linha, como serão identificadas."
   ]
  },
  {
   "cell_type": "markdown",
   "id": "b97494de",
   "metadata": {},
   "source": [
    "<h4>\n",
    "    3.5 Analise de valores únicos dentro das colunas;\n",
    "</h4>     "
   ]
  },
  {
   "cell_type": "code",
   "execution_count": 8,
   "id": "efac1607",
   "metadata": {},
   "outputs": [
    {
     "data": {
      "text/plain": [
       "age           47\n",
       "sex            2\n",
       "bmi          548\n",
       "children       6\n",
       "smoker         2\n",
       "region         4\n",
       "charges     1337\n",
       "dtype: int64"
      ]
     },
     "execution_count": 8,
     "metadata": {},
     "output_type": "execute_result"
    }
   ],
   "source": [
    "data.nunique()"
   ]
  },
  {
   "cell_type": "markdown",
   "id": "7d46a26d",
   "metadata": {},
   "source": [
    "<h4>\n",
    "        3.5.1 Visualizando os valores que são únicos;\n",
    "</h4>     "
   ]
  },
  {
   "cell_type": "code",
   "execution_count": 9,
   "id": "5e22883d",
   "metadata": {},
   "outputs": [
    {
     "data": {
      "text/plain": [
       "male      676\n",
       "female    662\n",
       "Name: sex, dtype: int64"
      ]
     },
     "execution_count": 9,
     "metadata": {},
     "output_type": "execute_result"
    }
   ],
   "source": [
    "data['sex'].value_counts()"
   ]
  },
  {
   "cell_type": "markdown",
   "id": "16659c90",
   "metadata": {},
   "source": [
    "<h4>\n",
    "        3.6 Analisando o formato de cada coluna;\n",
    "</h4> "
   ]
  },
  {
   "cell_type": "code",
   "execution_count": 10,
   "id": "b7d415c8",
   "metadata": {},
   "outputs": [
    {
     "name": "stdout",
     "output_type": "stream",
     "text": [
      "<class 'pandas.core.frame.DataFrame'>\n",
      "RangeIndex: 1338 entries, 0 to 1337\n",
      "Data columns (total 7 columns):\n",
      " #   Column    Non-Null Count  Dtype  \n",
      "---  ------    --------------  -----  \n",
      " 0   age       1338 non-null   int64  \n",
      " 1   sex       1338 non-null   object \n",
      " 2   bmi       1338 non-null   float64\n",
      " 3   children  1338 non-null   int64  \n",
      " 4   smoker    1338 non-null   object \n",
      " 5   region    1338 non-null   object \n",
      " 6   charges   1338 non-null   float64\n",
      "dtypes: float64(2), int64(2), object(3)\n",
      "memory usage: 73.3+ KB\n"
     ]
    }
   ],
   "source": [
    "data.info()"
   ]
  },
  {
   "cell_type": "markdown",
   "id": "a9d6a718",
   "metadata": {},
   "source": [
    "Analisando a informação acima é possível entender que não temos valores nulos, as quantidades de cada coluna de non-null(Não nulos) é igual ao total de linhas do dataset. Já percebemos que não será necessário tratar valores nulos mas podemos trazer  uma função mais pra frente para ter a certeza."
   ]
  },
  {
   "cell_type": "markdown",
   "id": "cfb5e176",
   "metadata": {},
   "source": [
    "<h4>\n",
    "   3.7 Identificando valores missing;\n",
    "</h4>  "
   ]
  },
  {
   "cell_type": "code",
   "execution_count": 11,
   "id": "daeb2cc7",
   "metadata": {},
   "outputs": [
    {
     "data": {
      "text/plain": [
       "age         0\n",
       "sex         0\n",
       "bmi         0\n",
       "children    0\n",
       "smoker      0\n",
       "region      0\n",
       "charges     0\n",
       "dtype: int64"
      ]
     },
     "execution_count": 11,
     "metadata": {},
     "output_type": "execute_result"
    }
   ],
   "source": [
    "data.isnull().sum()"
   ]
  },
  {
   "cell_type": "markdown",
   "id": "e4aca6a0",
   "metadata": {},
   "source": [
    "<h4>\n",
    "   3.8 Visualizar linhas duplicadas;\n",
    "</h4>  "
   ]
  },
  {
   "cell_type": "code",
   "execution_count": 12,
   "id": "9985229f",
   "metadata": {},
   "outputs": [
    {
     "data": {
      "text/plain": [
       "1"
      ]
     },
     "execution_count": 12,
     "metadata": {},
     "output_type": "execute_result"
    }
   ],
   "source": [
    "data.duplicated().sum()"
   ]
  },
  {
   "cell_type": "markdown",
   "id": "56ba079e",
   "metadata": {},
   "source": [
    "Nesse caso temos uma linha duplicada e precisamos excluir para não atrapalhar o resultado da maquina preditiva."
   ]
  },
  {
   "cell_type": "markdown",
   "id": "9daecbd6",
   "metadata": {},
   "source": [
    "<h4>\n",
    "   3.8.1 Visualizando as linhas duplicadas;\n",
    "</h4>  "
   ]
  },
  {
   "cell_type": "code",
   "execution_count": 13,
   "id": "3dfba332",
   "metadata": {},
   "outputs": [
    {
     "data": {
      "text/html": [
       "<div>\n",
       "<style scoped>\n",
       "    .dataframe tbody tr th:only-of-type {\n",
       "        vertical-align: middle;\n",
       "    }\n",
       "\n",
       "    .dataframe tbody tr th {\n",
       "        vertical-align: top;\n",
       "    }\n",
       "\n",
       "    .dataframe thead th {\n",
       "        text-align: right;\n",
       "    }\n",
       "</style>\n",
       "<table border=\"1\" class=\"dataframe\">\n",
       "  <thead>\n",
       "    <tr style=\"text-align: right;\">\n",
       "      <th></th>\n",
       "      <th>age</th>\n",
       "      <th>sex</th>\n",
       "      <th>bmi</th>\n",
       "      <th>children</th>\n",
       "      <th>smoker</th>\n",
       "      <th>region</th>\n",
       "      <th>charges</th>\n",
       "    </tr>\n",
       "  </thead>\n",
       "  <tbody>\n",
       "    <tr>\n",
       "      <th>195</th>\n",
       "      <td>19</td>\n",
       "      <td>male</td>\n",
       "      <td>30.59</td>\n",
       "      <td>0</td>\n",
       "      <td>no</td>\n",
       "      <td>northwest</td>\n",
       "      <td>1639.5631</td>\n",
       "    </tr>\n",
       "    <tr>\n",
       "      <th>581</th>\n",
       "      <td>19</td>\n",
       "      <td>male</td>\n",
       "      <td>30.59</td>\n",
       "      <td>0</td>\n",
       "      <td>no</td>\n",
       "      <td>northwest</td>\n",
       "      <td>1639.5631</td>\n",
       "    </tr>\n",
       "  </tbody>\n",
       "</table>\n",
       "</div>"
      ],
      "text/plain": [
       "     age   sex    bmi  children smoker     region    charges\n",
       "195   19  male  30.59         0     no  northwest  1639.5631\n",
       "581   19  male  30.59         0     no  northwest  1639.5631"
      ]
     },
     "execution_count": 13,
     "metadata": {},
     "output_type": "execute_result"
    }
   ],
   "source": [
    "data[data.duplicated(keep=False)]"
   ]
  },
  {
   "cell_type": "markdown",
   "id": "d17b096d",
   "metadata": {},
   "source": [
    "A linhas são identicas precisamos tratar mas faremos isso posteriormente na fase de pré-processamento dos dados."
   ]
  },
  {
   "cell_type": "markdown",
   "id": "95594bdf",
   "metadata": {},
   "source": [
    "<h2>\n",
    "\n",
    "     4. Limpeza dos dados;\n",
    "\n",
    "</h2>"
   ]
  },
  {
   "cell_type": "markdown",
   "id": "4b106345",
   "metadata": {},
   "source": [
    "<h4>\n",
    "   4.1 Tratamento de valores Missing;\n",
    "</h4>  "
   ]
  },
  {
   "cell_type": "markdown",
   "id": "cde70b86",
   "metadata": {},
   "source": [
    "Para esse dataset não foi necessário efetuar o tratamento de valores missing, pois na exploração já identificamos a presença nesse dataset."
   ]
  },
  {
   "cell_type": "markdown",
   "id": "6c09da0f",
   "metadata": {},
   "source": [
    "<h4>\n",
    "   4.2 Tratamento das linhas duplicadas;\n",
    "</h4>  "
   ]
  },
  {
   "cell_type": "code",
   "execution_count": 14,
   "id": "7aaf5b19",
   "metadata": {},
   "outputs": [
    {
     "data": {
      "text/html": [
       "<div>\n",
       "<style scoped>\n",
       "    .dataframe tbody tr th:only-of-type {\n",
       "        vertical-align: middle;\n",
       "    }\n",
       "\n",
       "    .dataframe tbody tr th {\n",
       "        vertical-align: top;\n",
       "    }\n",
       "\n",
       "    .dataframe thead th {\n",
       "        text-align: right;\n",
       "    }\n",
       "</style>\n",
       "<table border=\"1\" class=\"dataframe\">\n",
       "  <thead>\n",
       "    <tr style=\"text-align: right;\">\n",
       "      <th></th>\n",
       "      <th>age</th>\n",
       "      <th>sex</th>\n",
       "      <th>bmi</th>\n",
       "      <th>children</th>\n",
       "      <th>smoker</th>\n",
       "      <th>region</th>\n",
       "      <th>charges</th>\n",
       "    </tr>\n",
       "  </thead>\n",
       "  <tbody>\n",
       "    <tr>\n",
       "      <th>195</th>\n",
       "      <td>19</td>\n",
       "      <td>male</td>\n",
       "      <td>30.59</td>\n",
       "      <td>0</td>\n",
       "      <td>no</td>\n",
       "      <td>northwest</td>\n",
       "      <td>1639.5631</td>\n",
       "    </tr>\n",
       "    <tr>\n",
       "      <th>581</th>\n",
       "      <td>19</td>\n",
       "      <td>male</td>\n",
       "      <td>30.59</td>\n",
       "      <td>0</td>\n",
       "      <td>no</td>\n",
       "      <td>northwest</td>\n",
       "      <td>1639.5631</td>\n",
       "    </tr>\n",
       "  </tbody>\n",
       "</table>\n",
       "</div>"
      ],
      "text/plain": [
       "     age   sex    bmi  children smoker     region    charges\n",
       "195   19  male  30.59         0     no  northwest  1639.5631\n",
       "581   19  male  30.59         0     no  northwest  1639.5631"
      ]
     },
     "execution_count": 14,
     "metadata": {},
     "output_type": "execute_result"
    }
   ],
   "source": [
    "data[data.duplicated(keep=False)]"
   ]
  },
  {
   "cell_type": "code",
   "execution_count": 15,
   "id": "8b38f175",
   "metadata": {},
   "outputs": [],
   "source": [
    "data.drop_duplicates(keep='first', inplace=True)\n"
   ]
  },
  {
   "cell_type": "code",
   "execution_count": 16,
   "id": "6562dc34",
   "metadata": {
    "scrolled": true
   },
   "outputs": [
    {
     "data": {
      "text/html": [
       "<div>\n",
       "<style scoped>\n",
       "    .dataframe tbody tr th:only-of-type {\n",
       "        vertical-align: middle;\n",
       "    }\n",
       "\n",
       "    .dataframe tbody tr th {\n",
       "        vertical-align: top;\n",
       "    }\n",
       "\n",
       "    .dataframe thead th {\n",
       "        text-align: right;\n",
       "    }\n",
       "</style>\n",
       "<table border=\"1\" class=\"dataframe\">\n",
       "  <thead>\n",
       "    <tr style=\"text-align: right;\">\n",
       "      <th></th>\n",
       "      <th>age</th>\n",
       "      <th>sex</th>\n",
       "      <th>bmi</th>\n",
       "      <th>children</th>\n",
       "      <th>smoker</th>\n",
       "      <th>region</th>\n",
       "      <th>charges</th>\n",
       "    </tr>\n",
       "  </thead>\n",
       "  <tbody>\n",
       "  </tbody>\n",
       "</table>\n",
       "</div>"
      ],
      "text/plain": [
       "Empty DataFrame\n",
       "Columns: [age, sex, bmi, children, smoker, region, charges]\n",
       "Index: []"
      ]
     },
     "execution_count": 16,
     "metadata": {},
     "output_type": "execute_result"
    }
   ],
   "source": [
    "data[data.duplicated(keep=False)]"
   ]
  },
  {
   "cell_type": "markdown",
   "id": "ad6a05a2",
   "metadata": {},
   "source": [
    "Efetuamos o tratamento das linhas duplicadas, aonde vamos manter a primeira linha e pois são identicas."
   ]
  },
  {
   "cell_type": "markdown",
   "id": "7fb2e981",
   "metadata": {},
   "source": [
    "<h2>\n",
    "     5. Transformação e pré-processamento dos dados;\n",
    "</h2>"
   ]
  },
  {
   "cell_type": "markdown",
   "id": "72f19996",
   "metadata": {},
   "source": [
    "<h4>\n",
    "   5.1 Transformando as variáveis categoricas;\n",
    "</h4>  "
   ]
  },
  {
   "cell_type": "markdown",
   "id": "72754a46",
   "metadata": {},
   "source": [
    "Conforme necessário a maquina preditiva compreende e trabalha com maior qualidade com variáveis numéricas, portanto iremos utilizar o label encoder para alterar algumas colunas que possuem variáveis categoricas e que serão importantes para a nossa predição final."
   ]
  },
  {
   "cell_type": "markdown",
   "id": "4d982016",
   "metadata": {},
   "source": [
    "Para esse caso iremos tranformar as colunas 'sex' e 'smoker'."
   ]
  },
  {
   "cell_type": "code",
   "execution_count": 17,
   "id": "01723b2a",
   "metadata": {},
   "outputs": [],
   "source": [
    "for variaveis in ['sex','smoker']:\n",
    "    data[variaveis] = LabelEncoder().fit_transform(data[variaveis])"
   ]
  },
  {
   "cell_type": "code",
   "execution_count": 18,
   "id": "344cb82e",
   "metadata": {},
   "outputs": [
    {
     "data": {
      "text/html": [
       "<div>\n",
       "<style scoped>\n",
       "    .dataframe tbody tr th:only-of-type {\n",
       "        vertical-align: middle;\n",
       "    }\n",
       "\n",
       "    .dataframe tbody tr th {\n",
       "        vertical-align: top;\n",
       "    }\n",
       "\n",
       "    .dataframe thead th {\n",
       "        text-align: right;\n",
       "    }\n",
       "</style>\n",
       "<table border=\"1\" class=\"dataframe\">\n",
       "  <thead>\n",
       "    <tr style=\"text-align: right;\">\n",
       "      <th></th>\n",
       "      <th>age</th>\n",
       "      <th>sex</th>\n",
       "      <th>bmi</th>\n",
       "      <th>children</th>\n",
       "      <th>smoker</th>\n",
       "      <th>region</th>\n",
       "      <th>charges</th>\n",
       "    </tr>\n",
       "  </thead>\n",
       "  <tbody>\n",
       "    <tr>\n",
       "      <th>0</th>\n",
       "      <td>19</td>\n",
       "      <td>0</td>\n",
       "      <td>27.900</td>\n",
       "      <td>0</td>\n",
       "      <td>1</td>\n",
       "      <td>southwest</td>\n",
       "      <td>16884.92400</td>\n",
       "    </tr>\n",
       "    <tr>\n",
       "      <th>1</th>\n",
       "      <td>18</td>\n",
       "      <td>1</td>\n",
       "      <td>33.770</td>\n",
       "      <td>1</td>\n",
       "      <td>0</td>\n",
       "      <td>southeast</td>\n",
       "      <td>1725.55230</td>\n",
       "    </tr>\n",
       "    <tr>\n",
       "      <th>2</th>\n",
       "      <td>28</td>\n",
       "      <td>1</td>\n",
       "      <td>33.000</td>\n",
       "      <td>3</td>\n",
       "      <td>0</td>\n",
       "      <td>southeast</td>\n",
       "      <td>4449.46200</td>\n",
       "    </tr>\n",
       "    <tr>\n",
       "      <th>3</th>\n",
       "      <td>33</td>\n",
       "      <td>1</td>\n",
       "      <td>22.705</td>\n",
       "      <td>0</td>\n",
       "      <td>0</td>\n",
       "      <td>northwest</td>\n",
       "      <td>21984.47061</td>\n",
       "    </tr>\n",
       "    <tr>\n",
       "      <th>4</th>\n",
       "      <td>32</td>\n",
       "      <td>1</td>\n",
       "      <td>28.880</td>\n",
       "      <td>0</td>\n",
       "      <td>0</td>\n",
       "      <td>northwest</td>\n",
       "      <td>3866.85520</td>\n",
       "    </tr>\n",
       "    <tr>\n",
       "      <th>...</th>\n",
       "      <td>...</td>\n",
       "      <td>...</td>\n",
       "      <td>...</td>\n",
       "      <td>...</td>\n",
       "      <td>...</td>\n",
       "      <td>...</td>\n",
       "      <td>...</td>\n",
       "    </tr>\n",
       "    <tr>\n",
       "      <th>1333</th>\n",
       "      <td>50</td>\n",
       "      <td>1</td>\n",
       "      <td>30.970</td>\n",
       "      <td>3</td>\n",
       "      <td>0</td>\n",
       "      <td>northwest</td>\n",
       "      <td>10600.54830</td>\n",
       "    </tr>\n",
       "    <tr>\n",
       "      <th>1334</th>\n",
       "      <td>18</td>\n",
       "      <td>0</td>\n",
       "      <td>31.920</td>\n",
       "      <td>0</td>\n",
       "      <td>0</td>\n",
       "      <td>northeast</td>\n",
       "      <td>2205.98080</td>\n",
       "    </tr>\n",
       "    <tr>\n",
       "      <th>1335</th>\n",
       "      <td>18</td>\n",
       "      <td>0</td>\n",
       "      <td>36.850</td>\n",
       "      <td>0</td>\n",
       "      <td>0</td>\n",
       "      <td>southeast</td>\n",
       "      <td>1629.83350</td>\n",
       "    </tr>\n",
       "    <tr>\n",
       "      <th>1336</th>\n",
       "      <td>21</td>\n",
       "      <td>0</td>\n",
       "      <td>25.800</td>\n",
       "      <td>0</td>\n",
       "      <td>0</td>\n",
       "      <td>southwest</td>\n",
       "      <td>2007.94500</td>\n",
       "    </tr>\n",
       "    <tr>\n",
       "      <th>1337</th>\n",
       "      <td>61</td>\n",
       "      <td>0</td>\n",
       "      <td>29.070</td>\n",
       "      <td>0</td>\n",
       "      <td>1</td>\n",
       "      <td>northwest</td>\n",
       "      <td>29141.36030</td>\n",
       "    </tr>\n",
       "  </tbody>\n",
       "</table>\n",
       "<p>1337 rows × 7 columns</p>\n",
       "</div>"
      ],
      "text/plain": [
       "      age  sex     bmi  children  smoker     region      charges\n",
       "0      19    0  27.900         0       1  southwest  16884.92400\n",
       "1      18    1  33.770         1       0  southeast   1725.55230\n",
       "2      28    1  33.000         3       0  southeast   4449.46200\n",
       "3      33    1  22.705         0       0  northwest  21984.47061\n",
       "4      32    1  28.880         0       0  northwest   3866.85520\n",
       "...   ...  ...     ...       ...     ...        ...          ...\n",
       "1333   50    1  30.970         3       0  northwest  10600.54830\n",
       "1334   18    0  31.920         0       0  northeast   2205.98080\n",
       "1335   18    0  36.850         0       0  southeast   1629.83350\n",
       "1336   21    0  25.800         0       0  southwest   2007.94500\n",
       "1337   61    0  29.070         0       1  northwest  29141.36030\n",
       "\n",
       "[1337 rows x 7 columns]"
      ]
     },
     "execution_count": 18,
     "metadata": {},
     "output_type": "execute_result"
    }
   ],
   "source": [
    "data"
   ]
  },
  {
   "cell_type": "markdown",
   "id": "a4ef3dd2",
   "metadata": {},
   "source": [
    "<h2>\n",
    "\n",
    "     6. Análise exploratória dos dados;\n",
    "\n",
    "</h2>"
   ]
  },
  {
   "cell_type": "markdown",
   "id": "814081a8",
   "metadata": {},
   "source": [
    "<h4>\n",
    "6.1 Análises e insights importantes;\n",
    "</h4>"
   ]
  },
  {
   "cell_type": "code",
   "execution_count": 19,
   "id": "a28aac89",
   "metadata": {},
   "outputs": [
    {
     "data": {
      "text/html": [
       "<div>\n",
       "<style scoped>\n",
       "    .dataframe tbody tr th:only-of-type {\n",
       "        vertical-align: middle;\n",
       "    }\n",
       "\n",
       "    .dataframe tbody tr th {\n",
       "        vertical-align: top;\n",
       "    }\n",
       "\n",
       "    .dataframe thead th {\n",
       "        text-align: right;\n",
       "    }\n",
       "</style>\n",
       "<table border=\"1\" class=\"dataframe\">\n",
       "  <thead>\n",
       "    <tr style=\"text-align: right;\">\n",
       "      <th></th>\n",
       "      <th>age</th>\n",
       "      <th>sex</th>\n",
       "      <th>bmi</th>\n",
       "      <th>children</th>\n",
       "      <th>smoker</th>\n",
       "      <th>charges</th>\n",
       "    </tr>\n",
       "  </thead>\n",
       "  <tbody>\n",
       "    <tr>\n",
       "      <th>count</th>\n",
       "      <td>1337.000000</td>\n",
       "      <td>1337.000000</td>\n",
       "      <td>1337.000000</td>\n",
       "      <td>1337.000000</td>\n",
       "      <td>1337.000000</td>\n",
       "      <td>1337.000000</td>\n",
       "    </tr>\n",
       "    <tr>\n",
       "      <th>mean</th>\n",
       "      <td>39.222139</td>\n",
       "      <td>0.504862</td>\n",
       "      <td>30.663452</td>\n",
       "      <td>1.095737</td>\n",
       "      <td>0.204936</td>\n",
       "      <td>13279.121487</td>\n",
       "    </tr>\n",
       "    <tr>\n",
       "      <th>std</th>\n",
       "      <td>14.044333</td>\n",
       "      <td>0.500163</td>\n",
       "      <td>6.100468</td>\n",
       "      <td>1.205571</td>\n",
       "      <td>0.403806</td>\n",
       "      <td>12110.359656</td>\n",
       "    </tr>\n",
       "    <tr>\n",
       "      <th>min</th>\n",
       "      <td>18.000000</td>\n",
       "      <td>0.000000</td>\n",
       "      <td>15.960000</td>\n",
       "      <td>0.000000</td>\n",
       "      <td>0.000000</td>\n",
       "      <td>1121.873900</td>\n",
       "    </tr>\n",
       "    <tr>\n",
       "      <th>25%</th>\n",
       "      <td>27.000000</td>\n",
       "      <td>0.000000</td>\n",
       "      <td>26.290000</td>\n",
       "      <td>0.000000</td>\n",
       "      <td>0.000000</td>\n",
       "      <td>4746.344000</td>\n",
       "    </tr>\n",
       "    <tr>\n",
       "      <th>50%</th>\n",
       "      <td>39.000000</td>\n",
       "      <td>1.000000</td>\n",
       "      <td>30.400000</td>\n",
       "      <td>1.000000</td>\n",
       "      <td>0.000000</td>\n",
       "      <td>9386.161300</td>\n",
       "    </tr>\n",
       "    <tr>\n",
       "      <th>75%</th>\n",
       "      <td>51.000000</td>\n",
       "      <td>1.000000</td>\n",
       "      <td>34.700000</td>\n",
       "      <td>2.000000</td>\n",
       "      <td>0.000000</td>\n",
       "      <td>16657.717450</td>\n",
       "    </tr>\n",
       "    <tr>\n",
       "      <th>max</th>\n",
       "      <td>64.000000</td>\n",
       "      <td>1.000000</td>\n",
       "      <td>53.130000</td>\n",
       "      <td>5.000000</td>\n",
       "      <td>1.000000</td>\n",
       "      <td>63770.428010</td>\n",
       "    </tr>\n",
       "  </tbody>\n",
       "</table>\n",
       "</div>"
      ],
      "text/plain": [
       "               age          sex          bmi     children       smoker  \\\n",
       "count  1337.000000  1337.000000  1337.000000  1337.000000  1337.000000   \n",
       "mean     39.222139     0.504862    30.663452     1.095737     0.204936   \n",
       "std      14.044333     0.500163     6.100468     1.205571     0.403806   \n",
       "min      18.000000     0.000000    15.960000     0.000000     0.000000   \n",
       "25%      27.000000     0.000000    26.290000     0.000000     0.000000   \n",
       "50%      39.000000     1.000000    30.400000     1.000000     0.000000   \n",
       "75%      51.000000     1.000000    34.700000     2.000000     0.000000   \n",
       "max      64.000000     1.000000    53.130000     5.000000     1.000000   \n",
       "\n",
       "            charges  \n",
       "count   1337.000000  \n",
       "mean   13279.121487  \n",
       "std    12110.359656  \n",
       "min     1121.873900  \n",
       "25%     4746.344000  \n",
       "50%     9386.161300  \n",
       "75%    16657.717450  \n",
       "max    63770.428010  "
      ]
     },
     "execution_count": 19,
     "metadata": {},
     "output_type": "execute_result"
    }
   ],
   "source": [
    "data.describe()"
   ]
  },
  {
   "cell_type": "code",
   "execution_count": 38,
   "id": "26209baf",
   "metadata": {},
   "outputs": [
    {
     "name": "stderr",
     "output_type": "stream",
     "text": [
      "C:\\AppCD\\Python\\lib\\site-packages\\seaborn\\_decorators.py:36: FutureWarning: Pass the following variable as a keyword arg: x. From version 0.12, the only valid positional argument will be `data`, and passing other arguments without an explicit keyword will result in an error or misinterpretation.\n",
      "  warnings.warn(\n"
     ]
    },
    {
     "data": {
      "text/plain": [
       "Text(0.5, 1.0, 'Gráfico de Genero')"
      ]
     },
     "execution_count": 38,
     "metadata": {},
     "output_type": "execute_result"
    },
    {
     "data": {
      "image/png": "[encoded data removed]",
      "text/plain": [
       "<Figure size 640x480 with 1 Axes>"
      ]
     },
     "metadata": {},
     "output_type": "display_data"
    }
   ],
   "source": [
    "sns.countplot(data.sex)\n",
    "plt.title('Gráfico de Genero')"
   ]
  },
  {
   "cell_type": "markdown",
   "id": "7f0e2651",
   "metadata": {},
   "source": [
    "O Valor 1 = Male (masculino) e 0 female (Feminino), podemos ver que os dados contém o sexo bem equilibrado, com quantidade do sexo feminino levemente inferior de registros."
   ]
  },
  {
   "cell_type": "code",
   "execution_count": 37,
   "id": "c7be0096",
   "metadata": {},
   "outputs": [
    {
     "name": "stderr",
     "output_type": "stream",
     "text": [
      "C:\\AppCD\\Python\\lib\\site-packages\\seaborn\\_decorators.py:36: FutureWarning: Pass the following variable as a keyword arg: x. From version 0.12, the only valid positional argument will be `data`, and passing other arguments without an explicit keyword will result in an error or misinterpretation.\n",
      "  warnings.warn(\n"
     ]
    },
    {
     "data": {
      "text/plain": [
       "Text(0.5, 1.0, 'Gráfico de Fumantes')"
      ]
     },
     "execution_count": 37,
     "metadata": {},
     "output_type": "execute_result"
    },
    {
     "data": {
      "image/png": "[encoded data removed]",
      "text/plain": [
       "<Figure size 640x480 with 1 Axes>"
      ]
     },
     "metadata": {},
     "output_type": "display_data"
    }
   ],
   "source": [
    "data.smoker.value_counts()\n",
    "sns.countplot(data.smoker)\n",
    "plt.title('Gráfico de Fumantes')"
   ]
  },
  {
   "cell_type": "markdown",
   "id": "74237d9a",
   "metadata": {},
   "source": [
    "Para a coluna smoker aonde 1 são fumantes e 0 são não fumantes, que também é possível entender que a quantidade de fumantes é bem inferior."
   ]
  },
  {
   "cell_type": "code",
   "execution_count": 22,
   "id": "6205a299",
   "metadata": {},
   "outputs": [
    {
     "data": {
      "text/plain": [
       "Text(0.5, 1.0, 'Gráfico Idade')"
      ]
     },
     "execution_count": 22,
     "metadata": {},
     "output_type": "execute_result"
    },
    {
     "data": {
      "image/png": "[encoded data removed]",
      "text/plain": [
       "<Figure size 640x480 with 1 Axes>"
      ]
     },
     "metadata": {},
     "output_type": "display_data"
    }
   ],
   "source": [
    "sns.histplot(data['age'], bins=47)\n",
    "plt.title('Gráfico Idade')"
   ]
  },
  {
   "cell_type": "markdown",
   "id": "fd8b3162",
   "metadata": {},
   "source": [
    "Percebemos um grande volume de pessoas com idade até 20 anos de forma bem discrepante das outras idades."
   ]
  },
  {
   "cell_type": "code",
   "execution_count": 39,
   "id": "061635b0",
   "metadata": {
    "scrolled": true
   },
   "outputs": [
    {
     "name": "stderr",
     "output_type": "stream",
     "text": [
      "C:\\AppCD\\Python\\lib\\site-packages\\seaborn\\_decorators.py:36: FutureWarning: Pass the following variable as a keyword arg: x. From version 0.12, the only valid positional argument will be `data`, and passing other arguments without an explicit keyword will result in an error or misinterpretation.\n",
      "  warnings.warn(\n"
     ]
    },
    {
     "data": {
      "text/plain": [
       "<AxesSubplot:xlabel='age'>"
      ]
     },
     "execution_count": 39,
     "metadata": {},
     "output_type": "execute_result"
    },
    {
     "data": {
      "image/png": "[encoded data removed]",
      "text/plain": [
       "<Figure size 640x480 with 1 Axes>"
      ]
     },
     "metadata": {},
     "output_type": "display_data"
    }
   ],
   "source": [
    "sns.boxplot(data['age'],orient='h', linewidth=1)"
   ]
  },
  {
   "cell_type": "markdown",
   "id": "bd134938",
   "metadata": {},
   "source": [
    "O boxplot demonstra que não temos outliers para serem tratados."
   ]
  },
  {
   "cell_type": "code",
   "execution_count": 24,
   "id": "f065f65c",
   "metadata": {
    "scrolled": true
   },
   "outputs": [
    {
     "data": {
      "text/plain": [
       "Text(0.5, 1.0, 'Fumantes x Genero')"
      ]
     },
     "execution_count": 24,
     "metadata": {},
     "output_type": "execute_result"
    },
    {
     "data": {
      "image/png": "[encoded data removed]",
      "text/plain": [
       "<Figure size 640x480 with 1 Axes>"
      ]
     },
     "metadata": {},
     "output_type": "display_data"
    }
   ],
   "source": [
    "sns.histplot(x= data['smoker'], hue = data['sex'])\n",
    "plt.title('Fumantes x Genero')"
   ]
  },
  {
   "cell_type": "markdown",
   "id": "b29b0c7d",
   "metadata": {},
   "source": [
    "O maior volume de fumantes está no genero masculino, e visualizando rápido é possível perceber que a maior quantidade das pessoas não são fumantes."
   ]
  },
  {
   "cell_type": "code",
   "execution_count": 40,
   "id": "3a64617e",
   "metadata": {
    "scrolled": true
   },
   "outputs": [
    {
     "name": "stderr",
     "output_type": "stream",
     "text": [
      "C:\\AppCD\\Python\\lib\\site-packages\\seaborn\\_decorators.py:36: FutureWarning: Pass the following variable as a keyword arg: x. From version 0.12, the only valid positional argument will be `data`, and passing other arguments without an explicit keyword will result in an error or misinterpretation.\n",
      "  warnings.warn(\n"
     ]
    },
    {
     "data": {
      "text/plain": [
       "Text(0.5, 1.0, 'Região')"
      ]
     },
     "execution_count": 40,
     "metadata": {},
     "output_type": "execute_result"
    },
    {
     "data": {
      "image/png": "[encoded data removed]",
      "text/plain": [
       "<Figure size 640x480 with 1 Axes>"
      ]
     },
     "metadata": {},
     "output_type": "display_data"
    }
   ],
   "source": [
    "\n",
    "sns.countplot(data['region'])\n",
    "plt.title('Região')"
   ]
  },
  {
   "cell_type": "code",
   "execution_count": 41,
   "id": "67d88085",
   "metadata": {},
   "outputs": [
    {
     "data": {
      "text/plain": [
       "array([[<AxesSubplot:title={'center':'charges'}>]], dtype=object)"
      ]
     },
     "execution_count": 41,
     "metadata": {},
     "output_type": "execute_result"
    },
    {
     "data": {
      "image/png": "[encoded data removed]",
      "text/plain": [
       "<Figure size 640x480 with 1 Axes>"
      ]
     },
     "metadata": {},
     "output_type": "display_data"
    },
    {
     "data": {
      "image/png": "[encoded data removed]",
      "text/plain": [
       "<Figure size 640x480 with 1 Axes>"
      ]
     },
     "metadata": {},
     "output_type": "display_data"
    },
    {
     "data": {
      "image/png": "[encoded data removed]",
      "text/plain": [
       "<Figure size 640x480 with 1 Axes>"
      ]
     },
     "metadata": {},
     "output_type": "display_data"
    },
    {
     "data": {
      "image/png": "[encoded data removed]",
      "text/plain": [
       "<Figure size 640x480 with 1 Axes>"
      ]
     },
     "metadata": {},
     "output_type": "display_data"
    }
   ],
   "source": [
    "data.hist('age')\n",
    "\n",
    "data.hist('bmi')\n",
    "\n",
    "data.hist('children')\n",
    "\n",
    "data.hist('charges')"
   ]
  },
  {
   "cell_type": "markdown",
   "id": "d7fd47af",
   "metadata": {},
   "source": [
    "<h4>\n",
    "6.2 Correlações entre os dados;\n",
    "</h4>"
   ]
  },
  {
   "cell_type": "code",
   "execution_count": 25,
   "id": "daafc4ce",
   "metadata": {},
   "outputs": [
    {
     "data": {
      "text/plain": [
       "Text(0.5, 1.0, 'Matrix de Correlação')"
      ]
     },
     "execution_count": 25,
     "metadata": {},
     "output_type": "execute_result"
    },
    {
     "data": {
      "image/png": "[encoded data removed]",
      "text/plain": [
       "<Figure size 640x480 with 2 Axes>"
      ]
     },
     "metadata": {},
     "output_type": "display_data"
    }
   ],
   "source": [
    "sns.heatmap(data.corr(), cmap='Reds', annot= True)\n",
    "plt.title('Matrix de Correlação')"
   ]
  },
  {
   "cell_type": "markdown",
   "id": "fdd2599e",
   "metadata": {},
   "source": [
    "Existe uma correlação muito grande entre o preço dos seguros e se o cliente é fumante ou não. Então já no primeiro ponto iremos utilizar as colunas smoker e charges para criação da maquina preditiva."
   ]
  },
  {
   "cell_type": "markdown",
   "id": "e55a07a7",
   "metadata": {},
   "source": [
    "<h2>\n",
    "\n",
    "     7. Criação dos modelos preditivos ou classificação;\n",
    "\n",
    "</h2>"
   ]
  },
  {
   "cell_type": "markdown",
   "id": "c65aa0a7",
   "metadata": {},
   "source": [
    "<h4>\n",
    "7.1 Separação dos dados de treino e teste;\n",
    "</h4>"
   ]
  },
  {
   "cell_type": "code",
   "execution_count": 26,
   "id": "adc7fd2e",
   "metadata": {},
   "outputs": [],
   "source": [
    "X=data['smoker'].values.reshape(-1,1)\n",
    "Y=data['charges'].values.reshape(-1,1)\n",
    "\n",
    "X_train, X_test, Y_train, Y_test = train_test_split(X, Y, test_size=0.2, random_state=7)"
   ]
  },
  {
   "cell_type": "code",
   "execution_count": null,
   "id": "8c9e49a4",
   "metadata": {},
   "outputs": [],
   "source": []
  },
  {
   "cell_type": "markdown",
   "id": "93e54f97",
   "metadata": {},
   "source": [
    "<h4>\n",
    "7.2 Construção e treino do modelo;\n",
    "</h4>"
   ]
  },
  {
   "cell_type": "code",
   "execution_count": 27,
   "id": "3ab663d6",
   "metadata": {},
   "outputs": [
    {
     "data": {
      "text/plain": [
       "LinearRegression()"
      ]
     },
     "execution_count": 27,
     "metadata": {},
     "output_type": "execute_result"
    }
   ],
   "source": [
    "model = LinearRegression()\n",
    "model.fit(X_train, Y_train)"
   ]
  },
  {
   "cell_type": "markdown",
   "id": "241fdd7a",
   "metadata": {},
   "source": [
    "<h4>\n",
    "7.3 Avaliação do modelo;\n",
    "</h4>"
   ]
  },
  {
   "cell_type": "code",
   "execution_count": 28,
   "id": "ed27772b",
   "metadata": {},
   "outputs": [],
   "source": [
    "Y_predict = model.predict(X_test)"
   ]
  },
  {
   "cell_type": "markdown",
   "id": "d3eb4a39",
   "metadata": {},
   "source": [
    "Para avaliar o resultado, criamos a coluna de predição do resultado."
   ]
  },
  {
   "cell_type": "code",
   "execution_count": 29,
   "id": "a52a13cd",
   "metadata": {},
   "outputs": [
    {
     "data": {
      "text/html": [
       "<div>\n",
       "<style scoped>\n",
       "    .dataframe tbody tr th:only-of-type {\n",
       "        vertical-align: middle;\n",
       "    }\n",
       "\n",
       "    .dataframe tbody tr th {\n",
       "        vertical-align: top;\n",
       "    }\n",
       "\n",
       "    .dataframe thead th {\n",
       "        text-align: right;\n",
       "    }\n",
       "</style>\n",
       "<table border=\"1\" class=\"dataframe\">\n",
       "  <thead>\n",
       "    <tr style=\"text-align: right;\">\n",
       "      <th></th>\n",
       "      <th>real</th>\n",
       "      <th>predito</th>\n",
       "    </tr>\n",
       "  </thead>\n",
       "  <tbody>\n",
       "    <tr>\n",
       "      <th>103</th>\n",
       "      <td>26140.36030</td>\n",
       "      <td>8425.958419</td>\n",
       "    </tr>\n",
       "    <tr>\n",
       "      <th>196</th>\n",
       "      <td>46889.26120</td>\n",
       "      <td>31622.980783</td>\n",
       "    </tr>\n",
       "    <tr>\n",
       "      <th>76</th>\n",
       "      <td>4889.03680</td>\n",
       "      <td>8425.958419</td>\n",
       "    </tr>\n",
       "    <tr>\n",
       "      <th>1</th>\n",
       "      <td>9288.02670</td>\n",
       "      <td>8425.958419</td>\n",
       "    </tr>\n",
       "    <tr>\n",
       "      <th>3</th>\n",
       "      <td>7526.70645</td>\n",
       "      <td>8425.958419</td>\n",
       "    </tr>\n",
       "    <tr>\n",
       "      <th>167</th>\n",
       "      <td>30063.58055</td>\n",
       "      <td>8425.958419</td>\n",
       "    </tr>\n",
       "    <tr>\n",
       "      <th>22</th>\n",
       "      <td>51194.55914</td>\n",
       "      <td>31622.980783</td>\n",
       "    </tr>\n",
       "    <tr>\n",
       "      <th>206</th>\n",
       "      <td>24603.04837</td>\n",
       "      <td>8425.958419</td>\n",
       "    </tr>\n",
       "    <tr>\n",
       "      <th>203</th>\n",
       "      <td>6600.20595</td>\n",
       "      <td>8425.958419</td>\n",
       "    </tr>\n",
       "    <tr>\n",
       "      <th>33</th>\n",
       "      <td>38415.47400</td>\n",
       "      <td>31622.980783</td>\n",
       "    </tr>\n",
       "    <tr>\n",
       "      <th>133</th>\n",
       "      <td>7441.05300</td>\n",
       "      <td>8425.958419</td>\n",
       "    </tr>\n",
       "    <tr>\n",
       "      <th>102</th>\n",
       "      <td>34806.46770</td>\n",
       "      <td>31622.980783</td>\n",
       "    </tr>\n",
       "  </tbody>\n",
       "</table>\n",
       "</div>"
      ],
      "text/plain": [
       "            real       predito\n",
       "103  26140.36030   8425.958419\n",
       "196  46889.26120  31622.980783\n",
       "76    4889.03680   8425.958419\n",
       "1     9288.02670   8425.958419\n",
       "3     7526.70645   8425.958419\n",
       "167  30063.58055   8425.958419\n",
       "22   51194.55914  31622.980783\n",
       "206  24603.04837   8425.958419\n",
       "203   6600.20595   8425.958419\n",
       "33   38415.47400  31622.980783\n",
       "133   7441.05300   8425.958419\n",
       "102  34806.46770  31622.980783"
      ]
     },
     "execution_count": 29,
     "metadata": {},
     "output_type": "execute_result"
    }
   ],
   "source": [
    "real_vs_predito = pd.DataFrame({'real': Y_test.flatten(),\n",
    "                                 'predito': Y_predict.flatten()})\n",
    "real_vs_predito.sample(12)"
   ]
  },
  {
   "cell_type": "markdown",
   "id": "70200cda",
   "metadata": {},
   "source": [
    "Em seguida definimos uma visão comparativa para analisar a eficiência da nossa predição."
   ]
  },
  {
   "cell_type": "code",
   "execution_count": 30,
   "id": "6a7f9288",
   "metadata": {
    "scrolled": true
   },
   "outputs": [
    {
     "name": "stdout",
     "output_type": "stream",
     "text": [
      "Acurácia: 61.73 %\n"
     ]
    }
   ],
   "source": [
    "print('Acurácia: %.2f'% (model.score(X_test, Y_test)*100), '%' )"
   ]
  },
  {
   "cell_type": "markdown",
   "id": "b18466b6",
   "metadata": {},
   "source": [
    "<h4>\n",
    "7.4 Utilizando todas as opções de variáveis de entrada;\n",
    "</h4>"
   ]
  },
  {
   "cell_type": "code",
   "execution_count": 31,
   "id": "299b2515",
   "metadata": {},
   "outputs": [],
   "source": [
    "X = data.drop(['charges', 'region'], axis=1)\n",
    "\n",
    "Y = data['charges'].values.reshape(-1,1)\n",
    "\n",
    "X_train, X_test, Y_train, Y_test = train_test_split(X, Y, test_size=0.2, random_state=7)"
   ]
  },
  {
   "cell_type": "markdown",
   "id": "194affd1",
   "metadata": {},
   "source": [
    "Nesse momento estamos dropando a coluna Charges que é a nossa variável target e separando das demais pois somente dessa forma conseguimos ter uma qualidade maior no nosso resultado."
   ]
  },
  {
   "cell_type": "code",
   "execution_count": 32,
   "id": "0d160d3b",
   "metadata": {},
   "outputs": [
    {
     "data": {
      "text/plain": [
       "LinearRegression()"
      ]
     },
     "execution_count": 32,
     "metadata": {},
     "output_type": "execute_result"
    }
   ],
   "source": [
    "model2 = LinearRegression()\n",
    "model2.fit(X_train, Y_train)"
   ]
  },
  {
   "cell_type": "markdown",
   "id": "5cfb0605",
   "metadata": {},
   "source": [
    "Novamente treinando os nossos dados, agora com um maior volume de variáveis."
   ]
  },
  {
   "cell_type": "code",
   "execution_count": 33,
   "id": "bbfcacb8",
   "metadata": {},
   "outputs": [],
   "source": [
    "Y_predict2 = model2.predict(X_test)"
   ]
  },
  {
   "cell_type": "code",
   "execution_count": 34,
   "id": "916190cc",
   "metadata": {},
   "outputs": [
    {
     "data": {
      "text/html": [
       "<div>\n",
       "<style scoped>\n",
       "    .dataframe tbody tr th:only-of-type {\n",
       "        vertical-align: middle;\n",
       "    }\n",
       "\n",
       "    .dataframe tbody tr th {\n",
       "        vertical-align: top;\n",
       "    }\n",
       "\n",
       "    .dataframe thead th {\n",
       "        text-align: right;\n",
       "    }\n",
       "</style>\n",
       "<table border=\"1\" class=\"dataframe\">\n",
       "  <thead>\n",
       "    <tr style=\"text-align: right;\">\n",
       "      <th></th>\n",
       "      <th>real</th>\n",
       "      <th>predito</th>\n",
       "      <th>predito2</th>\n",
       "    </tr>\n",
       "  </thead>\n",
       "  <tbody>\n",
       "    <tr>\n",
       "      <th>138</th>\n",
       "      <td>6313.75900</td>\n",
       "      <td>8425.958419</td>\n",
       "      <td>8240.163354</td>\n",
       "    </tr>\n",
       "    <tr>\n",
       "      <th>249</th>\n",
       "      <td>10796.35025</td>\n",
       "      <td>8425.958419</td>\n",
       "      <td>11187.509978</td>\n",
       "    </tr>\n",
       "    <tr>\n",
       "      <th>190</th>\n",
       "      <td>1627.28245</td>\n",
       "      <td>8425.958419</td>\n",
       "      <td>-280.735272</td>\n",
       "    </tr>\n",
       "    <tr>\n",
       "      <th>146</th>\n",
       "      <td>8703.45600</td>\n",
       "      <td>8425.958419</td>\n",
       "      <td>10092.334168</td>\n",
       "    </tr>\n",
       "    <tr>\n",
       "      <th>196</th>\n",
       "      <td>46889.26120</td>\n",
       "      <td>31622.980783</td>\n",
       "      <td>38727.476147</td>\n",
       "    </tr>\n",
       "    <tr>\n",
       "      <th>26</th>\n",
       "      <td>7151.09200</td>\n",
       "      <td>8425.958419</td>\n",
       "      <td>8131.969829</td>\n",
       "    </tr>\n",
       "    <tr>\n",
       "      <th>46</th>\n",
       "      <td>3490.54910</td>\n",
       "      <td>8425.958419</td>\n",
       "      <td>5423.726010</td>\n",
       "    </tr>\n",
       "    <tr>\n",
       "      <th>76</th>\n",
       "      <td>4889.03680</td>\n",
       "      <td>8425.958419</td>\n",
       "      <td>6661.633509</td>\n",
       "    </tr>\n",
       "    <tr>\n",
       "      <th>201</th>\n",
       "      <td>10370.91255</td>\n",
       "      <td>8425.958419</td>\n",
       "      <td>12106.675291</td>\n",
       "    </tr>\n",
       "    <tr>\n",
       "      <th>86</th>\n",
       "      <td>17043.34140</td>\n",
       "      <td>31622.980783</td>\n",
       "      <td>26875.547915</td>\n",
       "    </tr>\n",
       "    <tr>\n",
       "      <th>235</th>\n",
       "      <td>11033.66170</td>\n",
       "      <td>8425.958419</td>\n",
       "      <td>15391.098450</td>\n",
       "    </tr>\n",
       "    <tr>\n",
       "      <th>223</th>\n",
       "      <td>37742.57570</td>\n",
       "      <td>31622.980783</td>\n",
       "      <td>31758.282262</td>\n",
       "    </tr>\n",
       "  </tbody>\n",
       "</table>\n",
       "</div>"
      ],
      "text/plain": [
       "            real       predito      predito2\n",
       "138   6313.75900   8425.958419   8240.163354\n",
       "249  10796.35025   8425.958419  11187.509978\n",
       "190   1627.28245   8425.958419   -280.735272\n",
       "146   8703.45600   8425.958419  10092.334168\n",
       "196  46889.26120  31622.980783  38727.476147\n",
       "26    7151.09200   8425.958419   8131.969829\n",
       "46    3490.54910   8425.958419   5423.726010\n",
       "76    4889.03680   8425.958419   6661.633509\n",
       "201  10370.91255   8425.958419  12106.675291\n",
       "86   17043.34140  31622.980783  26875.547915\n",
       "235  11033.66170   8425.958419  15391.098450\n",
       "223  37742.57570  31622.980783  31758.282262"
      ]
     },
     "execution_count": 34,
     "metadata": {},
     "output_type": "execute_result"
    }
   ],
   "source": [
    "real_vs_predito_vs_predito2 = pd.DataFrame({'real': Y_test.flatten(),\n",
    "                                 'predito': Y_predict.flatten(),\n",
    "                                           'predito2': Y_predict2.flatten()})\n",
    "real_vs_predito_vs_predito2.sample(12)"
   ]
  },
  {
   "cell_type": "code",
   "execution_count": 35,
   "id": "ec2554f2",
   "metadata": {
    "scrolled": false
   },
   "outputs": [
    {
     "name": "stdout",
     "output_type": "stream",
     "text": [
      "Acurácia: 74.40 %\n"
     ]
    }
   ],
   "source": [
    "print('Acurácia: %.2f'% (model2.score(X_test, Y_test)*100), '%' )"
   ]
  },
  {
   "cell_type": "code",
   "execution_count": 49,
   "id": "50031822",
   "metadata": {},
   "outputs": [
    {
     "data": {
      "text/plain": [
       "Text(0, 0.5, 'predito2')"
      ]
     },
     "execution_count": 49,
     "metadata": {},
     "output_type": "execute_result"
    },
    {
     "data": {
      "image/png": "[encoded data removed]",
      "text/plain": [
       "<Figure size 640x480 with 1 Axes>"
      ]
     },
     "metadata": {},
     "output_type": "display_data"
    }
   ],
   "source": [
    "sns.regplot(x=Y_predict2,y=Y_test)\n",
    "plt.xlabel(\"real\")\n",
    "plt.ylabel(\"predito2\")"
   ]
  },
  {
   "cell_type": "markdown",
   "id": "9172aa04",
   "metadata": {},
   "source": [
    "O gráfico acima demonstra o quanto as variáveis real x predito2 (previsão com todas as variáveis de entrada), são correlacionadas,  a linha demonstra a regressão linear entre as variáveis."
   ]
  },
  {
   "cell_type": "markdown",
   "id": "8abe7349",
   "metadata": {},
   "source": [
    "Com a inclusão das outras variáveis conseguimos um resultado melhor, portanto é importante utilizar todas as variáveis que temos disponíveis como entrada."
   ]
  },
  {
   "cell_type": "markdown",
   "id": "5e741b12",
   "metadata": {},
   "source": [
    "<h2>\n",
    "\n",
    "     8. Conclusões finais;\n",
    "\n",
    "</h2>"
   ]
  },
  {
   "cell_type": "markdown",
   "id": "5200e35c",
   "metadata": {},
   "source": [
    "Como resultado final podemos utilizar a máquina preditiva para calcular o preço do seguro para a nossa base de dados, tornando possível ter uma previsão dos valores dos seguros para o próximo período e até mesmo cruzar com a proporção de custos e margem. Gerando uma possibilidade maior de tomada de decisão sobre como os recursos serão utilizados. Também podemos obter novas entradas de informações para novos clientes e obter de forma padrão conforme histórico o preço do seguro para esse no novo cliente."
   ]
  }
 ],
 "metadata": {
  "kernelspec": {
   "display_name": "Python 3 (ipykernel)",
   "language": "python",
   "name": "python3"
  },
  "language_info": {
   "codemirror_mode": {
    "name": "ipython",
    "version": 3
   },
   "file_extension": ".py",
   "mimetype": "text/x-python",
   "name": "python",
   "nbconvert_exporter": "python",
   "pygments_lexer": "ipython3",
   "version": "3.9.13"
  }
 },
 "nbformat": 4,
 "nbformat_minor": 5
}
